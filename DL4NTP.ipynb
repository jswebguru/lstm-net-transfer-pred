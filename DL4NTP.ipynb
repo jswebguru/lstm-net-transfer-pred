{
  "nbformat": 4,
  "nbformat_minor": 0,
  "metadata": {
    "colab": {
      "name": "DL4NTP.ipynb",
      "provenance": [],
      "collapsed_sections": [],
      "include_colab_link": true
    },
    "kernelspec": {
      "name": "python3",
      "display_name": "Python 3"
    },
    "language_info": {
      "name": "python"
    }
  },
  "cells": [
    {
      "cell_type": "markdown",
      "metadata": {
        "id": "view-in-github",
        "colab_type": "text"
      },
      "source": [
        "<a href=\"https://colab.research.google.com/github/fle1scha/DL4NTP/blob/main/DL4NTP.ipynb\" target=\"_parent\"><img src=\"https://colab.research.google.com/assets/colab-badge.svg\" alt=\"Open In Colab\"/></a>"
      ]
    },
    {
      "cell_type": "code",
      "metadata": {
        "id": "5cCDCp4LhGom"
      },
      "source": [
        "#Import tensorflow and numpy\n",
        "import tensorflow as tf\n",
        "import numpy as np \n",
        "import pandas as pd"
      ],
      "execution_count": 2,
      "outputs": []
    },
    {
      "cell_type": "code",
      "metadata": {
        "id": "lrwM3cXKhYmK"
      },
      "source": [
        "#Import keras models\n",
        "from random import random\n",
        "from numpy import array\n",
        "from numpy import cumsum\n",
        "from keras.models import Sequential\n",
        "from keras.layers import LSTM\n",
        "from keras.layers import Dense\n",
        "from keras.layers import TimeDistributed"
      ],
      "execution_count": 3,
      "outputs": []
    },
    {
      "cell_type": "code",
      "metadata": {
        "id": "zmltwXVFCzKO"
      },
      "source": [
        "#Import any other libraries needed\n",
        "import math\n",
        "import os"
      ],
      "execution_count": 8,
      "outputs": []
    },
    {
      "cell_type": "markdown",
      "metadata": {
        "id": "apW7Ec7Q6cZU"
      },
      "source": [
        "1. Mount Google Drive file system"
      ]
    },
    {
      "cell_type": "code",
      "metadata": {
        "id": "6CHuCizHipju",
        "colab": {
          "base_uri": "https://localhost:8080/",
          "height": 538
        },
        "outputId": "6aae86ca-2084-48de-d480-f75e7477390b"
      },
      "source": [
        "\n",
        "from google.colab import drive\n",
        "drive.mount('/content/gdrive')"
      ],
      "execution_count": null,
      "outputs": [
        {
          "output_type": "error",
          "ename": "KeyboardInterrupt",
          "evalue": "ignored",
          "traceback": [
            "\u001b[0;31m---------------------------------------------------------------------------\u001b[0m",
            "\u001b[0;31mKeyboardInterrupt\u001b[0m                         Traceback (most recent call last)",
            "\u001b[0;32m/usr/local/lib/python3.7/dist-packages/ipykernel/kernelbase.py\u001b[0m in \u001b[0;36m_input_request\u001b[0;34m(self, prompt, ident, parent, password)\u001b[0m\n\u001b[1;32m    728\u001b[0m             \u001b[0;32mtry\u001b[0m\u001b[0;34m:\u001b[0m\u001b[0;34m\u001b[0m\u001b[0;34m\u001b[0m\u001b[0m\n\u001b[0;32m--> 729\u001b[0;31m                 \u001b[0mident\u001b[0m\u001b[0;34m,\u001b[0m \u001b[0mreply\u001b[0m \u001b[0;34m=\u001b[0m \u001b[0mself\u001b[0m\u001b[0;34m.\u001b[0m\u001b[0msession\u001b[0m\u001b[0;34m.\u001b[0m\u001b[0mrecv\u001b[0m\u001b[0;34m(\u001b[0m\u001b[0mself\u001b[0m\u001b[0;34m.\u001b[0m\u001b[0mstdin_socket\u001b[0m\u001b[0;34m,\u001b[0m \u001b[0;36m0\u001b[0m\u001b[0;34m)\u001b[0m\u001b[0;34m\u001b[0m\u001b[0;34m\u001b[0m\u001b[0m\n\u001b[0m\u001b[1;32m    730\u001b[0m             \u001b[0;32mexcept\u001b[0m \u001b[0mException\u001b[0m\u001b[0;34m:\u001b[0m\u001b[0;34m\u001b[0m\u001b[0;34m\u001b[0m\u001b[0m\n",
            "\u001b[0;32m/usr/local/lib/python3.7/dist-packages/jupyter_client/session.py\u001b[0m in \u001b[0;36mrecv\u001b[0;34m(self, socket, mode, content, copy)\u001b[0m\n\u001b[1;32m    802\u001b[0m         \u001b[0;32mtry\u001b[0m\u001b[0;34m:\u001b[0m\u001b[0;34m\u001b[0m\u001b[0;34m\u001b[0m\u001b[0m\n\u001b[0;32m--> 803\u001b[0;31m             \u001b[0mmsg_list\u001b[0m \u001b[0;34m=\u001b[0m \u001b[0msocket\u001b[0m\u001b[0;34m.\u001b[0m\u001b[0mrecv_multipart\u001b[0m\u001b[0;34m(\u001b[0m\u001b[0mmode\u001b[0m\u001b[0;34m,\u001b[0m \u001b[0mcopy\u001b[0m\u001b[0;34m=\u001b[0m\u001b[0mcopy\u001b[0m\u001b[0;34m)\u001b[0m\u001b[0;34m\u001b[0m\u001b[0;34m\u001b[0m\u001b[0m\n\u001b[0m\u001b[1;32m    804\u001b[0m         \u001b[0;32mexcept\u001b[0m \u001b[0mzmq\u001b[0m\u001b[0;34m.\u001b[0m\u001b[0mZMQError\u001b[0m \u001b[0;32mas\u001b[0m \u001b[0me\u001b[0m\u001b[0;34m:\u001b[0m\u001b[0;34m\u001b[0m\u001b[0;34m\u001b[0m\u001b[0m\n",
            "\u001b[0;32m/usr/local/lib/python3.7/dist-packages/zmq/sugar/socket.py\u001b[0m in \u001b[0;36mrecv_multipart\u001b[0;34m(self, flags, copy, track)\u001b[0m\n\u001b[1;32m    582\u001b[0m         \"\"\"\n\u001b[0;32m--> 583\u001b[0;31m         \u001b[0mparts\u001b[0m \u001b[0;34m=\u001b[0m \u001b[0;34m[\u001b[0m\u001b[0mself\u001b[0m\u001b[0;34m.\u001b[0m\u001b[0mrecv\u001b[0m\u001b[0;34m(\u001b[0m\u001b[0mflags\u001b[0m\u001b[0;34m,\u001b[0m \u001b[0mcopy\u001b[0m\u001b[0;34m=\u001b[0m\u001b[0mcopy\u001b[0m\u001b[0;34m,\u001b[0m \u001b[0mtrack\u001b[0m\u001b[0;34m=\u001b[0m\u001b[0mtrack\u001b[0m\u001b[0;34m)\u001b[0m\u001b[0;34m]\u001b[0m\u001b[0;34m\u001b[0m\u001b[0;34m\u001b[0m\u001b[0m\n\u001b[0m\u001b[1;32m    584\u001b[0m         \u001b[0;31m# have first part already, only loop while more to receive\u001b[0m\u001b[0;34m\u001b[0m\u001b[0;34m\u001b[0m\u001b[0;34m\u001b[0m\u001b[0m\n",
            "\u001b[0;32mzmq/backend/cython/socket.pyx\u001b[0m in \u001b[0;36mzmq.backend.cython.socket.Socket.recv\u001b[0;34m()\u001b[0m\n",
            "\u001b[0;32mzmq/backend/cython/socket.pyx\u001b[0m in \u001b[0;36mzmq.backend.cython.socket.Socket.recv\u001b[0;34m()\u001b[0m\n",
            "\u001b[0;32mzmq/backend/cython/socket.pyx\u001b[0m in \u001b[0;36mzmq.backend.cython.socket._recv_copy\u001b[0;34m()\u001b[0m\n",
            "\u001b[0;32m/usr/local/lib/python3.7/dist-packages/zmq/backend/cython/checkrc.pxd\u001b[0m in \u001b[0;36mzmq.backend.cython.checkrc._check_rc\u001b[0;34m()\u001b[0m\n",
            "\u001b[0;31mKeyboardInterrupt\u001b[0m: ",
            "\nDuring handling of the above exception, another exception occurred:\n",
            "\u001b[0;31mKeyboardInterrupt\u001b[0m                         Traceback (most recent call last)",
            "\u001b[0;32m<ipython-input-4-e25d133e43e8>\u001b[0m in \u001b[0;36m<module>\u001b[0;34m()\u001b[0m\n\u001b[1;32m      1\u001b[0m \u001b[0;34m\u001b[0m\u001b[0m\n\u001b[1;32m      2\u001b[0m \u001b[0;32mfrom\u001b[0m \u001b[0mgoogle\u001b[0m\u001b[0;34m.\u001b[0m\u001b[0mcolab\u001b[0m \u001b[0;32mimport\u001b[0m \u001b[0mdrive\u001b[0m\u001b[0;34m\u001b[0m\u001b[0;34m\u001b[0m\u001b[0m\n\u001b[0;32m----> 3\u001b[0;31m \u001b[0mdrive\u001b[0m\u001b[0;34m.\u001b[0m\u001b[0mmount\u001b[0m\u001b[0;34m(\u001b[0m\u001b[0;34m'/content/gdrive'\u001b[0m\u001b[0;34m)\u001b[0m\u001b[0;34m\u001b[0m\u001b[0;34m\u001b[0m\u001b[0m\n\u001b[0m",
            "\u001b[0;32m/usr/local/lib/python3.7/dist-packages/google/colab/drive.py\u001b[0m in \u001b[0;36mmount\u001b[0;34m(mountpoint, force_remount, timeout_ms, use_metadata_server)\u001b[0m\n\u001b[1;32m    262\u001b[0m       \u001b[0;32mwith\u001b[0m \u001b[0m_output\u001b[0m\u001b[0;34m.\u001b[0m\u001b[0muse_tags\u001b[0m\u001b[0;34m(\u001b[0m\u001b[0;34m'dfs-auth-dance'\u001b[0m\u001b[0;34m)\u001b[0m\u001b[0;34m:\u001b[0m\u001b[0;34m\u001b[0m\u001b[0;34m\u001b[0m\u001b[0m\n\u001b[1;32m    263\u001b[0m         \u001b[0;32mwith\u001b[0m \u001b[0mopen\u001b[0m\u001b[0;34m(\u001b[0m\u001b[0mfifo\u001b[0m\u001b[0;34m,\u001b[0m \u001b[0;34m'w'\u001b[0m\u001b[0;34m)\u001b[0m \u001b[0;32mas\u001b[0m \u001b[0mfifo_file\u001b[0m\u001b[0;34m:\u001b[0m\u001b[0;34m\u001b[0m\u001b[0;34m\u001b[0m\u001b[0m\n\u001b[0;32m--> 264\u001b[0;31m           \u001b[0mfifo_file\u001b[0m\u001b[0;34m.\u001b[0m\u001b[0mwrite\u001b[0m\u001b[0;34m(\u001b[0m\u001b[0mget_code\u001b[0m\u001b[0;34m(\u001b[0m\u001b[0mauth_prompt\u001b[0m\u001b[0;34m)\u001b[0m \u001b[0;34m+\u001b[0m \u001b[0;34m'\\n'\u001b[0m\u001b[0;34m)\u001b[0m\u001b[0;34m\u001b[0m\u001b[0;34m\u001b[0m\u001b[0m\n\u001b[0m\u001b[1;32m    265\u001b[0m       \u001b[0mwrote_to_fifo\u001b[0m \u001b[0;34m=\u001b[0m \u001b[0;32mTrue\u001b[0m\u001b[0;34m\u001b[0m\u001b[0;34m\u001b[0m\u001b[0m\n\u001b[1;32m    266\u001b[0m     \u001b[0;32melif\u001b[0m \u001b[0mcase\u001b[0m \u001b[0;34m==\u001b[0m \u001b[0;36m5\u001b[0m\u001b[0;34m:\u001b[0m\u001b[0;34m\u001b[0m\u001b[0;34m\u001b[0m\u001b[0m\n",
            "\u001b[0;32m/usr/local/lib/python3.7/dist-packages/ipykernel/kernelbase.py\u001b[0m in \u001b[0;36mraw_input\u001b[0;34m(self, prompt)\u001b[0m\n\u001b[1;32m    702\u001b[0m             \u001b[0mself\u001b[0m\u001b[0;34m.\u001b[0m\u001b[0m_parent_ident\u001b[0m\u001b[0;34m,\u001b[0m\u001b[0;34m\u001b[0m\u001b[0;34m\u001b[0m\u001b[0m\n\u001b[1;32m    703\u001b[0m             \u001b[0mself\u001b[0m\u001b[0;34m.\u001b[0m\u001b[0m_parent_header\u001b[0m\u001b[0;34m,\u001b[0m\u001b[0;34m\u001b[0m\u001b[0;34m\u001b[0m\u001b[0m\n\u001b[0;32m--> 704\u001b[0;31m             \u001b[0mpassword\u001b[0m\u001b[0;34m=\u001b[0m\u001b[0;32mFalse\u001b[0m\u001b[0;34m,\u001b[0m\u001b[0;34m\u001b[0m\u001b[0;34m\u001b[0m\u001b[0m\n\u001b[0m\u001b[1;32m    705\u001b[0m         )\n\u001b[1;32m    706\u001b[0m \u001b[0;34m\u001b[0m\u001b[0m\n",
            "\u001b[0;32m/usr/local/lib/python3.7/dist-packages/ipykernel/kernelbase.py\u001b[0m in \u001b[0;36m_input_request\u001b[0;34m(self, prompt, ident, parent, password)\u001b[0m\n\u001b[1;32m    732\u001b[0m             \u001b[0;32mexcept\u001b[0m \u001b[0mKeyboardInterrupt\u001b[0m\u001b[0;34m:\u001b[0m\u001b[0;34m\u001b[0m\u001b[0;34m\u001b[0m\u001b[0m\n\u001b[1;32m    733\u001b[0m                 \u001b[0;31m# re-raise KeyboardInterrupt, to truncate traceback\u001b[0m\u001b[0;34m\u001b[0m\u001b[0;34m\u001b[0m\u001b[0;34m\u001b[0m\u001b[0m\n\u001b[0;32m--> 734\u001b[0;31m                 \u001b[0;32mraise\u001b[0m \u001b[0mKeyboardInterrupt\u001b[0m\u001b[0;34m\u001b[0m\u001b[0;34m\u001b[0m\u001b[0m\n\u001b[0m\u001b[1;32m    735\u001b[0m             \u001b[0;32melse\u001b[0m\u001b[0;34m:\u001b[0m\u001b[0;34m\u001b[0m\u001b[0;34m\u001b[0m\u001b[0m\n\u001b[1;32m    736\u001b[0m                 \u001b[0;32mbreak\u001b[0m\u001b[0;34m\u001b[0m\u001b[0;34m\u001b[0m\u001b[0m\n",
            "\u001b[0;31mKeyboardInterrupt\u001b[0m: "
          ]
        }
      ]
    },
    {
      "cell_type": "markdown",
      "metadata": {
        "id": "MWIZCG-u6Z12"
      },
      "source": [
        "2. Read in SANReN sample data."
      ]
    },
    {
      "cell_type": "code",
      "metadata": {
        "id": "bMMf07H7mA3i",
        "colab": {
          "base_uri": "https://localhost:8080/",
          "height": 35
        },
        "outputId": "e2adec59-9327-4db4-cd77-a1e575763d53"
      },
      "source": [
        "with open('/content/gdrive/My Drive/SANReN.txt') as f:\n",
        "  SANReN = f.readlines()\n",
        "  \n",
        "#Iterate through first 10 rows to ensure data has been read correctly. \n",
        "'''for i in range(10):\n",
        "  print(SANReN[i])'''"
      ],
      "execution_count": null,
      "outputs": [
        {
          "output_type": "execute_result",
          "data": {
            "application/vnd.google.colaboratory.intrinsic+json": {
              "type": "string"
            },
            "text/plain": [
              "'for i in range(10):\\n  print(SANReN[i])'"
            ]
          },
          "metadata": {
            "tags": []
          },
          "execution_count": 20
        }
      ]
    },
    {
      "cell_type": "markdown",
      "metadata": {
        "id": "3QMDbVDehWb7"
      },
      "source": [
        "# ***Data Preprocessing***"
      ]
    },
    {
      "cell_type": "markdown",
      "metadata": {
        "id": "U64MBm826WiF"
      },
      "source": [
        "3. Clean dataframe headers"
      ]
    },
    {
      "cell_type": "code",
      "metadata": {
        "id": "Wn5UvaMAtfxu"
      },
      "source": [
        "headings_line = SANReN[0].split()\n",
        "#Merge 'Src', 'IP', and 'Addr:Port' \n",
        "headings_line[4:7] = [''.join(headings_line[4:7])]\n",
        "#Merge 'Dst', 'IP', and 'Addr:Port' \n",
        "headings_line[5:8] = [''.join(headings_line[5:8])]\n",
        "#Remove 'Flags', 'Tos', and 'Flows'.\n",
        "headings_line = headings_line[0:6] + headings_line[8:13]\n"
      ],
      "execution_count": null,
      "outputs": []
    },
    {
      "cell_type": "markdown",
      "metadata": {
        "id": "Iwj9a3jl6K70"
      },
      "source": [
        "4. Clean time-series data points"
      ]
    },
    {
      "cell_type": "code",
      "metadata": {
        "id": "W6uYg9vVuEcc"
      },
      "source": [
        "framedata = []\n",
        "for i in range(1, len(SANReN)):\n",
        "  data_line = SANReN[i].split()\n",
        "\n",
        "  if (data_line[11] == \"M\" and data_line[14] == 'M'): #Bytes and BPS in megabytes\n",
        "    #print(\"1 and 2\") \n",
        "    data_line = data_line[0:5] + data_line[6:7] + data_line[9:16]\n",
        "    data_line[7:9] = [''.join(data_line[7:9])]\n",
        "    data_line[9:11] = [''.join(data_line[9:11])]\n",
        "  \n",
        "  elif (data_line[13] == 'M'): #BPS measured in megabytes\n",
        "    #print(\"2\")\n",
        "    data_line = data_line[0:5] + data_line[6:7] + data_line[9:15]\n",
        "    data_line[9:11] = [''.join(data_line[9:11])]\n",
        "    \n",
        "  elif data_line[11] == 'M': #Bytes measured in megabytes\n",
        "    #print(\"1\")\n",
        "    data_line = data_line[0:5] + data_line[6:7] + data_line[9:15]\n",
        "    data_line[7:9] = [''.join(data_line[7:9])]\n",
        "  \n",
        "  else: #No megabyte metrics\n",
        "    #print(\"0\")\n",
        "    data_line = data_line[0:5] + data_line[6:7] + data_line[9:14]\n",
        "  \n",
        "  framedata.append(data_line)\n",
        "  "
      ],
      "execution_count": null,
      "outputs": []
    },
    {
      "cell_type": "markdown",
      "metadata": {
        "id": "IldG2fYf7dtL"
      },
      "source": [
        "5. Convert numpy array into pandas dataframe and add additional columns.\n",
        "  - Day: gives the day of the week as an integer. Monday is 0 and Sunday is 6."
      ]
    },
    {
      "cell_type": "code",
      "metadata": {
        "colab": {
          "base_uri": "https://localhost:8080/"
        },
        "id": "yS4XVsJv4cbC",
        "outputId": "a1d0d1ca-7f7d-4d8b-816b-661bfb423b52"
      },
      "source": [
        "df = pd.DataFrame(np.array(framedata), columns=headings_line)\n",
        "df['Date'] = pd.to_datetime(df['Date'])\n",
        "df[\"Day\"] = df['Date'].dt.dayofweek\n",
        "print(df.head(n=10))"
      ],
      "execution_count": null,
      "outputs": [
        {
          "output_type": "stream",
          "text": [
            "        Date    first-seen Duration Proto  ...   pps     bps   Bpp Day\n",
            "0 2020-07-04  20:10:06.480    1.223   TCP  ...  3679    1.5M    52   5\n",
            "1 2020-07-04  20:09:01.555   78.205   TCP  ...   396    4.8M  1500   5\n",
            "2 2020-07-04  20:10:01.690    5.307   TCP  ...   188   60297    40   5\n",
            "3 2020-07-04  20:09:23.019   43.982   TCP  ...    45  545677  1500   5\n",
            "4 2020-07-04  20:10:07.007    0.000   TCP  ...     0       0  1500   5\n",
            "5 2020-07-04  20:10:06.357    0.656   TCP  ...  3810    1.6M    52   5\n",
            "6 2020-07-04  20:09:56.447   15.439   TCP  ...   550    6.6M  1500   5\n",
            "7 2020-07-04  20:09:38.753   28.266   TCP  ...    70   22642    40   5\n",
            "8 2020-07-04  20:08:53.973   73.971   TCP  ...   223   86520    48   5\n",
            "9 2020-07-04  20:09:18.406   58.013   TCP  ...   474    5.4M  1422   5\n",
            "\n",
            "[10 rows x 12 columns]\n"
          ],
          "name": "stdout"
        }
      ]
    },
    {
      "cell_type": "code",
      "metadata": {
        "colab": {
          "base_uri": "https://localhost:8080/"
        },
        "id": "3ePYkBWYgO1U",
        "outputId": "345de6d9-94cc-49b4-c1ec-02354d2c87b5"
      },
      "source": [
        "print(df.columns)\n",
        "print(pd.unique(df[\"SrcIPAddr:Port\"]))\n",
        "\n"
      ],
      "execution_count": null,
      "outputs": [
        {
          "output_type": "stream",
          "text": [
            "Index(['Date', 'first-seen', 'Duration', 'Proto', 'SrcIPAddr:Port',\n",
            "       'DstIPAddr:Port', 'Packets', 'Bytes', 'pps', 'bps', 'Bpp', 'Day'],\n",
            "      dtype='object')\n",
            "['146.231.4.0:47837' '196.24.45.0:443' '146.230.0.0:6474'\n",
            " '197.102.66.0:443' '155.232.240.0:63576' '198.54.223.0:10285'\n",
            " '146.232.65.0:51128' '173.194.128.0:443' '155.232.240.0:443'\n",
            " '23.59.241.0:11891' '223.255.230.0:0' '196.24.45.0:42849'\n",
            " '198.54.223.0:11702' '196.24.45.0:80' '143.160.58.0:443'\n",
            " '196.21.118.0:33386' '196.23.168.0:443' '196.249.33.0:50266'\n",
            " '196.24.45.0:61855' '197.98.191.0:443' '192.96.15.0:51405'\n",
            " '196.21.109.0:17015' '146.231.24.0:59037' '196.21.242.0:56637'\n",
            " '196.21.157.0:33432' '155.232.7.0:41048' '196.24.45.0:0'\n",
            " '196.24.140.0:60101' '196.24.45.0:47435' '155.232.7.0:55518'\n",
            " '164.151.16.0:23018' '155.238.209.0:39010' '2.22.126.0:443'\n",
            " '23.54.159.0:443' '196.24.45.0:49233' '2.21.98.0:443' '130.211.203.0:443'\n",
            " '192.96.15.0:55340' '196.21.118.0:443' '209.204.232.0:80']\n"
          ],
          "name": "stdout"
        }
      ]
    },
    {
      "cell_type": "markdown",
      "metadata": {
        "id": "iqmDXFuAhFzJ"
      },
      "source": [
        "#***LSTM Implementation***"
      ]
    },
    {
      "cell_type": "markdown",
      "metadata": {
        "id": "X5E3llr2wiQB"
      },
      "source": [
        "6. Split data into both training and test set. Use 80/20 split. \n",
        "   Decide later whether validation set or whether cross validation applied\n",
        "\n",
        "\n"
      ]
    },
    {
      "cell_type": "code",
      "metadata": {
        "id": "NZhKVxKwv1R_"
      },
      "source": [
        "# Function to shuffle the data. \n",
        "# Takes the data as input, split as a ratio (80% training), and shuffle is set to true since we want to randomize our sample\n",
        "\n",
        "def split_data_into_training_testing(data, split, shuffle=True):\n",
        "    idx = np.arange(len(data))\n",
        "    if shuffle:\n",
        "        np.random.shuffle(idx)\n",
        "\n",
        "    p = int(len(data) * split)\n",
        "    training_set = data[idx[:p]]\n",
        "    test_set = data[idx[p:]]\n",
        "\n",
        "    return training_set, test_set"
      ],
      "execution_count": 10,
      "outputs": []
    },
    {
      "cell_type": "code",
      "metadata": {
        "id": "RfTzS_mZ5pyX"
      },
      "source": [
        "split_data_into_training_testing(df, 0.8) # Don't need to add the true"
      ],
      "execution_count": null,
      "outputs": []
    },
    {
      "cell_type": "markdown",
      "metadata": {
        "id": "mW_I4toi9-DO"
      },
      "source": [
        "7. Defining the Keras model configuaration"
      ]
    },
    {
      "cell_type": "code",
      "metadata": {
        "id": "1ntFEQ2A-FBQ"
      },
      "source": [
        "model = Sequential()\n",
        "model.add(LSTM( 128 , dropout = 0.25, recurrent_dropout = 0.25)) #128 memory units\n",
        "model.add(Dense(1, activation='sigmoid')) #Dense output layer, sigmoid activation\n",
        "model.compile(loss='mean_squared_error', optimizer='adam')\n",
        "model.fit(training_set, training_set, epochs=100, batch_size=1, verbose=2) #Idea will be to fit the features excluding target, and predict the target value"
      ],
      "execution_count": 11,
      "outputs": []
    },
    {
      "cell_type": "code",
      "metadata": {
        "id": "U2H2j4YUCNcl"
      },
      "source": [
        "8. Model has been trained, prediction time"
      ],
      "execution_count": null,
      "outputs": []
    },
    {
      "cell_type": "code",
      "metadata": {
        "id": "eYsx1CU1CQj8"
      },
      "source": [
        "training_predictions = model.predict(training_set)\n",
        "test_predictions = model.predict(testing_set)\n"
      ],
      "execution_count": null,
      "outputs": []
    },
    {
      "cell_type": "markdown",
      "metadata": {
        "id": "rklPAUjxCj8x"
      },
      "source": [
        "9. Calculate prediction metrics"
      ]
    },
    {
      "cell_type": "code",
      "metadata": {
        "id": "caBVol5hCl9C"
      },
      "source": [
        "training_mse = np.square(np.subtract(training_set[0], training_predictions[:,0])) #We want to calculate the difference between our predicted and actual values\n",
        "test_mse = np.square(np.subtract(test_set[0], test_predictions[:,0]))\n",
        "print('Train Score: %.2f MSE' % (training_mse))\n",
        "testScore = math.sqrt(mean_squared_error(testY[0], testPredict[:,0]))\n",
        "print('Test Score: %.2f MSE' % (test_mse))"
      ],
      "execution_count": null,
      "outputs": []
    },
    {
      "cell_type": "code",
      "metadata": {
        "id": "KOBwSV7ZCjSg"
      },
      "source": [
        ""
      ],
      "execution_count": null,
      "outputs": []
    }
  ]
}