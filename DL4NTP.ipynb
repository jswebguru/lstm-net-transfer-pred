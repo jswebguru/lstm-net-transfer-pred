{
  "nbformat": 4,
  "nbformat_minor": 0,
  "metadata": {
    "colab": {
      "name": "DL4NTP.ipynb",
      "provenance": [],
      "collapsed_sections": [],
      "include_colab_link": true
    },
    "kernelspec": {
      "name": "python3",
      "display_name": "Python 3"
    },
    "language_info": {
      "name": "python"
    }
  },
  "cells": [
    {
      "cell_type": "markdown",
      "metadata": {
        "id": "view-in-github",
        "colab_type": "text"
      },
      "source": [
        "<a href=\"https://colab.research.google.com/github/fle1scha/DL4NTP/blob/main/DL4NTP.ipynb\" target=\"_parent\"><img src=\"https://colab.research.google.com/assets/colab-badge.svg\" alt=\"Open In Colab\"/></a>"
      ]
    },
    {
      "cell_type": "code",
      "metadata": {
        "id": "5cCDCp4LhGom"
      },
      "source": [
        "#Import tensorflow and numpy\n",
        "import tensorflow as tf\n",
        "import numpy as np \n",
        "import pandas as pd"
      ],
      "execution_count": null,
      "outputs": []
    },
    {
      "cell_type": "code",
      "metadata": {
        "id": "lrwM3cXKhYmK"
      },
      "source": [
        "#Import keras models\n",
        "from random import random\n",
        "from numpy import array\n",
        "from numpy import cumsum\n",
        "from keras.models import Sequential\n",
        "from keras.layers import LSTM\n",
        "from keras.layers import Dense\n",
        "from keras.layers import TimeDistributed"
      ],
      "execution_count": null,
      "outputs": []
    },
    {
      "cell_type": "markdown",
      "metadata": {
        "id": "apW7Ec7Q6cZU"
      },
      "source": [
        "1. Mount Google Drive file system"
      ]
    },
    {
      "cell_type": "code",
      "metadata": {
        "id": "6CHuCizHipju"
      },
      "source": [
        "\n",
        "from google.colab import drive\n",
        "drive.mount('/content/gdrive')"
      ],
      "execution_count": null,
      "outputs": []
    },
    {
      "cell_type": "markdown",
      "metadata": {
        "id": "MWIZCG-u6Z12"
      },
      "source": [
        "2. Read in SANReN sample data."
      ]
    },
    {
      "cell_type": "code",
      "metadata": {
        "id": "bMMf07H7mA3i"
      },
      "source": [
        "with open('/content/gdrive/My Drive/SANReN.txt') as f:\n",
        "  SANReN = f.readlines()\n",
        "  \n",
        "#Iterate through first 10 rows to ensure data has been read correctly. \n",
        "'''for i in range(10):\n",
        "  print(SANReN[i])'''"
      ],
      "execution_count": null,
      "outputs": []
    },
    {
      "cell_type": "markdown",
      "metadata": {
        "id": "U64MBm826WiF"
      },
      "source": [
        "3. Clean dataframe headers"
      ]
    },
    {
      "cell_type": "code",
      "metadata": {
        "id": "Wn5UvaMAtfxu"
      },
      "source": [
        "headings_line = SANReN[0].split()\n",
        "#Merge 'Src', 'IP', and 'Addr:Port' \n",
        "headings_line[4:7] = [''.join(headings_line[4:7])]\n",
        "#Merge 'Dst', 'IP', and 'Addr:Port' \n",
        "headings_line[5:8] = [''.join(headings_line[5:8])]\n",
        "#Remove 'Flags', 'Tos', and 'Flows'.\n",
        "headings_line = headings_line[0:6] + headings_line[8:13]\n"
      ],
      "execution_count": null,
      "outputs": []
    },
    {
      "cell_type": "markdown",
      "metadata": {
        "id": "Iwj9a3jl6K70"
      },
      "source": [
        "4. Clean time-series data points"
      ]
    },
    {
      "cell_type": "code",
      "metadata": {
        "id": "W6uYg9vVuEcc"
      },
      "source": [
        "framedata = []\n",
        "for i in range(1, len(SANReN)):\n",
        "  data_line = SANReN[i].split()\n",
        "\n",
        "  if (data_line[11] == \"M\" and data_line[14] == 'M'): #Bytes and BPS in megabytes\n",
        "    #print(\"1 and 2\") \n",
        "    data_line = data_line[0:5] + data_line[6:7] + data_line[9:16]\n",
        "    data_line[7:9] = [''.join(data_line[7:9])]\n",
        "    data_line[9:11] = [''.join(data_line[9:11])]\n",
        "  \n",
        "  elif (data_line[13] == 'M'): #BPS measured in megabytes\n",
        "    #print(\"2\")\n",
        "    data_line = data_line[0:5] + data_line[6:7] + data_line[9:15]\n",
        "    data_line[9:11] = [''.join(data_line[9:11])]\n",
        "    \n",
        "  elif data_line[11] == 'M': #Bytes measured in megabytes\n",
        "    #print(\"1\")\n",
        "    data_line = data_line[0:5] + data_line[6:7] + data_line[9:15]\n",
        "    data_line[7:9] = [''.join(data_line[7:9])]\n",
        "  \n",
        "  else: #No megabyte metrics\n",
        "    #print(\"0\")\n",
        "    data_line = data_line[0:5] + data_line[6:7] + data_line[9:14]\n",
        "  \n",
        "  framedata.append(data_line)\n",
        "  "
      ],
      "execution_count": null,
      "outputs": []
    },
    {
      "cell_type": "markdown",
      "metadata": {
        "id": "IldG2fYf7dtL"
      },
      "source": [
        "5. Convert numpy array into pandas dataframe for LSTM."
      ]
    },
    {
      "cell_type": "code",
      "metadata": {
        "colab": {
          "base_uri": "https://localhost:8080/"
        },
        "id": "yS4XVsJv4cbC",
        "outputId": "65466f5c-af2a-4462-f986-dccd713a484f"
      },
      "source": [
        "\n",
        "df = pd.DataFrame(np.array(framedata), columns=headings_line)\n",
        "print(df)"
      ],
      "execution_count": null,
      "outputs": [
        {
          "output_type": "stream",
          "text": [
            "          Date    first-seen Duration Proto  ...   Bytes   pps     bps   Bpp\n",
            "0   2020-07-04  20:10:06.480    1.223   TCP  ...  234000  3679    1.5M    52\n",
            "1   2020-07-04  20:09:01.555   78.205   TCP  ...   46.5M   396    4.8M  1500\n",
            "2   2020-07-04  20:10:01.690    5.307   TCP  ...   40000   188   60297    40\n",
            "3   2020-07-04  20:09:23.019   43.982   TCP  ...    3.0M    45  545677  1500\n",
            "4   2020-07-04  20:10:07.007    0.000   TCP  ...  750000     0       0  1500\n",
            "..         ...           ...      ...   ...  ...     ...   ...     ...   ...\n",
            "78  2020-07-04  20:10:07.454    0.000   TCP  ...  750000     0       0  1500\n",
            "79  2020-07-04  20:10:07.458    0.000   TCP  ...  728000     0       0  1456\n",
            "80  2020-07-04  20:10:07.463    0.000   TCP  ...   20000     0       0    40\n",
            "81  2020-07-04  20:10:07.464    4.021   TCP  ...    5.2M   870   10.4M  1500\n",
            "82  2020-07-04  20:10:07.467    0.000   TCP  ...   26000     0       0    52\n",
            "\n",
            "[83 rows x 11 columns]\n"
          ],
          "name": "stdout"
        }
      ]
    },
    {
      "cell_type": "code",
      "metadata": {
        "id": "NZhKVxKwv1R_"
      },
      "source": [
        ""
      ],
      "execution_count": null,
      "outputs": []
    },
    {
      "cell_type": "markdown",
      "metadata": {
        "id": "fZkO_sV45lL3"
      },
      "source": [
        "**LSTM IMPLEMENTATION WILL START HERE **\n",
        "\n"
      ]
    },
    {
      "cell_type": "code",
      "metadata": {
        "id": "RfTzS_mZ5pyX"
      },
      "source": [
        ""
      ],
      "execution_count": null,
      "outputs": []
    }
  ]
}