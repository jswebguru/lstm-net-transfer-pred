{
  "nbformat": 4,
  "nbformat_minor": 0,
  "metadata": {
    "colab": {
      "name": "DL4NTP.ipynb",
      "provenance": [],
      "collapsed_sections": [],
      "include_colab_link": true
    },
    "kernelspec": {
      "name": "python3",
      "display_name": "Python 3"
    },
    "language_info": {
      "name": "python"
    }
  },
  "cells": [
    {
      "cell_type": "markdown",
      "metadata": {
        "id": "view-in-github",
        "colab_type": "text"
      },
      "source": [
        "<a href=\"https://colab.research.google.com/github/fle1scha/DL4NTP/blob/main/DL4NTP.ipynb\" target=\"_parent\"><img src=\"https://colab.research.google.com/assets/colab-badge.svg\" alt=\"Open In Colab\"/></a>"
      ]
    },
    {
      "cell_type": "code",
      "metadata": {
        "id": "5cCDCp4LhGom"
      },
      "source": [
        "#Import tensorflow and numpy\n",
        "import tensorflow as tf\n",
        "import numpy as np \n",
        "import pandas as pd"
      ],
      "execution_count": null,
      "outputs": []
    },
    {
      "cell_type": "code",
      "metadata": {
        "id": "lrwM3cXKhYmK"
      },
      "source": [
        "#Import keras models\n",
        "from random import random\n",
        "from numpy import array\n",
        "from numpy import cumsum\n",
        "from keras.models import Sequential\n",
        "from keras.layers import LSTM\n",
        "from keras.layers import Dense\n",
        "from keras.layers import TimeDistributed"
      ],
      "execution_count": null,
      "outputs": []
    },
    {
      "cell_type": "markdown",
      "metadata": {
        "id": "apW7Ec7Q6cZU"
      },
      "source": [
        "1. Mount Google Drive file system"
      ]
    },
    {
      "cell_type": "code",
      "metadata": {
        "id": "6CHuCizHipju",
        "colab": {
          "base_uri": "https://localhost:8080/"
        },
        "outputId": "65ac6fa9-c577-494a-9aa9-5f47b9b701cf"
      },
      "source": [
        "\n",
        "from google.colab import drive\n",
        "drive.mount('/content/gdrive')"
      ],
      "execution_count": null,
      "outputs": [
        {
          "output_type": "stream",
          "text": [
            "Drive already mounted at /content/gdrive; to attempt to forcibly remount, call drive.mount(\"/content/gdrive\", force_remount=True).\n"
          ],
          "name": "stdout"
        }
      ]
    },
    {
      "cell_type": "markdown",
      "metadata": {
        "id": "MWIZCG-u6Z12"
      },
      "source": [
        "2. Read in SANReN sample data."
      ]
    },
    {
      "cell_type": "code",
      "metadata": {
        "id": "bMMf07H7mA3i",
        "colab": {
          "base_uri": "https://localhost:8080/",
          "height": 35
        },
        "outputId": "e2adec59-9327-4db4-cd77-a1e575763d53"
      },
      "source": [
        "with open('/content/gdrive/My Drive/SANReN.txt') as f:\n",
        "  SANReN = f.readlines()\n",
        "  \n",
        "#Iterate through first 10 rows to ensure data has been read correctly. \n",
        "'''for i in range(10):\n",
        "  print(SANReN[i])'''"
      ],
      "execution_count": null,
      "outputs": [
        {
          "output_type": "execute_result",
          "data": {
            "application/vnd.google.colaboratory.intrinsic+json": {
              "type": "string"
            },
            "text/plain": [
              "'for i in range(10):\\n  print(SANReN[i])'"
            ]
          },
          "metadata": {
            "tags": []
          },
          "execution_count": 20
        }
      ]
    },
    {
      "cell_type": "markdown",
      "metadata": {
        "id": "3QMDbVDehWb7"
      },
      "source": [
        "# ***Data Preprocessing***"
      ]
    },
    {
      "cell_type": "markdown",
      "metadata": {
        "id": "U64MBm826WiF"
      },
      "source": [
        "3. Clean dataframe headers"
      ]
    },
    {
      "cell_type": "code",
      "metadata": {
        "id": "Wn5UvaMAtfxu"
      },
      "source": [
        "headings_line = SANReN[0].split()\n",
        "#Merge 'Src', 'IP', and 'Addr:Port' \n",
        "headings_line[4:7] = [''.join(headings_line[4:7])]\n",
        "#Merge 'Dst', 'IP', and 'Addr:Port' \n",
        "headings_line[5:8] = [''.join(headings_line[5:8])]\n",
        "#Remove 'Flags', 'Tos', and 'Flows'.\n",
        "headings_line = headings_line[0:6] + headings_line[8:13]\n"
      ],
      "execution_count": null,
      "outputs": []
    },
    {
      "cell_type": "markdown",
      "metadata": {
        "id": "Iwj9a3jl6K70"
      },
      "source": [
        "4. Clean time-series data points"
      ]
    },
    {
      "cell_type": "code",
      "metadata": {
        "id": "W6uYg9vVuEcc"
      },
      "source": [
        "framedata = []\n",
        "for i in range(1, len(SANReN)):\n",
        "  data_line = SANReN[i].split()\n",
        "\n",
        "  if (data_line[11] == \"M\" and data_line[14] == 'M'): #Bytes and BPS in megabytes\n",
        "    #print(\"1 and 2\") \n",
        "    data_line = data_line[0:5] + data_line[6:7] + data_line[9:16]\n",
        "    data_line[7:9] = [''.join(data_line[7:9])]\n",
        "    data_line[9:11] = [''.join(data_line[9:11])]\n",
        "  \n",
        "  elif (data_line[13] == 'M'): #BPS measured in megabytes\n",
        "    #print(\"2\")\n",
        "    data_line = data_line[0:5] + data_line[6:7] + data_line[9:15]\n",
        "    data_line[9:11] = [''.join(data_line[9:11])]\n",
        "    \n",
        "  elif data_line[11] == 'M': #Bytes measured in megabytes\n",
        "    #print(\"1\")\n",
        "    data_line = data_line[0:5] + data_line[6:7] + data_line[9:15]\n",
        "    data_line[7:9] = [''.join(data_line[7:9])]\n",
        "  \n",
        "  else: #No megabyte metrics\n",
        "    #print(\"0\")\n",
        "    data_line = data_line[0:5] + data_line[6:7] + data_line[9:14]\n",
        "  \n",
        "  framedata.append(data_line)\n",
        "  "
      ],
      "execution_count": null,
      "outputs": []
    },
    {
      "cell_type": "markdown",
      "metadata": {
        "id": "IldG2fYf7dtL"
      },
      "source": [
        "5. Convert numpy array into pandas dataframe and add additional columns.\n",
        "  - Day: gives the day of the week as an integer. Monday is 0 and Sunday is 6."
      ]
    },
    {
      "cell_type": "code",
      "metadata": {
        "colab": {
          "base_uri": "https://localhost:8080/"
        },
        "id": "yS4XVsJv4cbC",
        "outputId": "a1d0d1ca-7f7d-4d8b-816b-661bfb423b52"
      },
      "source": [
        "df = pd.DataFrame(np.array(framedata), columns=headings_line)\n",
        "df['Date'] = pd.to_datetime(df['Date'])\n",
        "df[\"Day\"] = df['Date'].dt.dayofweek\n",
        "print(df.head(n=10))"
      ],
      "execution_count": null,
      "outputs": [
        {
          "output_type": "stream",
          "text": [
            "        Date    first-seen Duration Proto  ...   pps     bps   Bpp Day\n",
            "0 2020-07-04  20:10:06.480    1.223   TCP  ...  3679    1.5M    52   5\n",
            "1 2020-07-04  20:09:01.555   78.205   TCP  ...   396    4.8M  1500   5\n",
            "2 2020-07-04  20:10:01.690    5.307   TCP  ...   188   60297    40   5\n",
            "3 2020-07-04  20:09:23.019   43.982   TCP  ...    45  545677  1500   5\n",
            "4 2020-07-04  20:10:07.007    0.000   TCP  ...     0       0  1500   5\n",
            "5 2020-07-04  20:10:06.357    0.656   TCP  ...  3810    1.6M    52   5\n",
            "6 2020-07-04  20:09:56.447   15.439   TCP  ...   550    6.6M  1500   5\n",
            "7 2020-07-04  20:09:38.753   28.266   TCP  ...    70   22642    40   5\n",
            "8 2020-07-04  20:08:53.973   73.971   TCP  ...   223   86520    48   5\n",
            "9 2020-07-04  20:09:18.406   58.013   TCP  ...   474    5.4M  1422   5\n",
            "\n",
            "[10 rows x 12 columns]\n"
          ],
          "name": "stdout"
        }
      ]
    },
    {
      "cell_type": "code",
      "metadata": {
        "colab": {
          "base_uri": "https://localhost:8080/"
        },
        "id": "3ePYkBWYgO1U",
        "outputId": "345de6d9-94cc-49b4-c1ec-02354d2c87b5"
      },
      "source": [
        "print(df.columns)\n",
        "print(pd.unique(df[\"SrcIPAddr:Port\"]))\n",
        "\n"
      ],
      "execution_count": null,
      "outputs": [
        {
          "output_type": "stream",
          "text": [
            "Index(['Date', 'first-seen', 'Duration', 'Proto', 'SrcIPAddr:Port',\n",
            "       'DstIPAddr:Port', 'Packets', 'Bytes', 'pps', 'bps', 'Bpp', 'Day'],\n",
            "      dtype='object')\n",
            "['146.231.4.0:47837' '196.24.45.0:443' '146.230.0.0:6474'\n",
            " '197.102.66.0:443' '155.232.240.0:63576' '198.54.223.0:10285'\n",
            " '146.232.65.0:51128' '173.194.128.0:443' '155.232.240.0:443'\n",
            " '23.59.241.0:11891' '223.255.230.0:0' '196.24.45.0:42849'\n",
            " '198.54.223.0:11702' '196.24.45.0:80' '143.160.58.0:443'\n",
            " '196.21.118.0:33386' '196.23.168.0:443' '196.249.33.0:50266'\n",
            " '196.24.45.0:61855' '197.98.191.0:443' '192.96.15.0:51405'\n",
            " '196.21.109.0:17015' '146.231.24.0:59037' '196.21.242.0:56637'\n",
            " '196.21.157.0:33432' '155.232.7.0:41048' '196.24.45.0:0'\n",
            " '196.24.140.0:60101' '196.24.45.0:47435' '155.232.7.0:55518'\n",
            " '164.151.16.0:23018' '155.238.209.0:39010' '2.22.126.0:443'\n",
            " '23.54.159.0:443' '196.24.45.0:49233' '2.21.98.0:443' '130.211.203.0:443'\n",
            " '192.96.15.0:55340' '196.21.118.0:443' '209.204.232.0:80']\n"
          ],
          "name": "stdout"
        }
      ]
    },
    {
      "cell_type": "markdown",
      "metadata": {
        "id": "iqmDXFuAhFzJ"
      },
      "source": [
        "#***LSTM Implementation***"
      ]
    },
    {
      "cell_type": "code",
      "metadata": {
        "id": "NZhKVxKwv1R_"
      },
      "source": [
        ""
      ],
      "execution_count": null,
      "outputs": []
    },
    {
      "cell_type": "code",
      "metadata": {
        "id": "RfTzS_mZ5pyX"
      },
      "source": [
        ""
      ],
      "execution_count": null,
      "outputs": []
    }
  ]
}